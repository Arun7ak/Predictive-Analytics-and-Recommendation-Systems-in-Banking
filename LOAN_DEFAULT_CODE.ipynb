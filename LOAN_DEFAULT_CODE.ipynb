{
 "cells": [
  {
   "cell_type": "markdown",
   "metadata": {},
   "source": [
    "                                        LOAN DEFAULT PREDICTION USING MACHINE LEARNING"
   ]
  },
  {
   "cell_type": "code",
   "execution_count": null,
   "metadata": {},
   "outputs": [],
   "source": [
    "#INSTALLING FAKER LIBRARY TO GENERATE FAKE DATA\n",
    "pip install faker\n"
   ]
  },
  {
   "cell_type": "code",
   "execution_count": 1,
   "metadata": {},
   "outputs": [],
   "source": [
    "#IMPORTING LIBRARIES FOR THE HANDLING THE DATAFRAME AND GENERATE RANDOM FAKE DATA\n",
    "import pandas as pd\n",
    "import numpy as np\n",
    "from faker import Faker\n",
    "from scipy.optimize import fsolve\n",
    "import random\n"
   ]
  },
  {
   "cell_type": "code",
   "execution_count": 2,
   "metadata": {},
   "outputs": [],
   "source": [
    "#INITIALIZE THE FAKER\n",
    "fake = Faker()"
   ]
  },
  {
   "cell_type": "code",
   "execution_count": 3,
   "metadata": {},
   "outputs": [],
   "source": [
    "#GENERATING THE FAKE DATA FOR THE LOAN DEFAULT\n",
    "def generate_fake_loan_data(num_records=20000):\n",
    "    data = {\n",
    "        \"customer_id\": [i for i in range(1, num_records + 1)], \n",
    "        \"name\": [fake.name() for _ in range(num_records)],  \n",
    "        \"age\": [fake.random_int(min=21, max=65) for _ in range(num_records)],  \n",
    "        \"income\": [fake.random_int(min=30000, max=150000) for _ in range(num_records)],  \n",
    "        \"credit_score\": [fake.random_int(min=300, max=850) for _ in range(num_records)], \n",
    "        \"loan_term\": [np.random.choice([12, 24, 36, 48, 60]) for _ in range(num_records)],\n",
    "     \n",
    "    }\n",
    "    df = pd.DataFrame(data)\n",
    "    \n",
    "    def calculate_loan_amount(row):\n",
    "        if row['credit_score'] < 580:\n",
    "            max_loan = 10000\n",
    "        elif row['credit_score'] < 670:\n",
    "            max_loan = 20000\n",
    "        elif row['credit_score'] < 740:\n",
    "            max_loan = 35000\n",
    "        else:\n",
    "            max_loan = 50000\n",
    "        \n",
    "        if row['income'] < 50000:\n",
    "            loan_amount = max_loan * 0.4\n",
    "        elif row['income'] <= 100000:\n",
    "            loan_amount = max_loan * 0.7\n",
    "        else:\n",
    "            loan_amount = max_loan * 1.0\n",
    "        \n",
    "        return loan_amount\n",
    "    \n",
    "    df[\"loan_amount\"] = df.apply(calculate_loan_amount, axis=1)\n",
    "    \n",
    "    def calculate_monthly_installment(loan_amount, loan_term):\n",
    "        temp_interest_rate = np.random.uniform(5, 15) / 100\n",
    "        r = temp_interest_rate / 12\n",
    "        n = loan_term\n",
    "        emi = loan_amount * r * (1 + r)**n / ((1 + r)**n - 1)\n",
    "        return emi\n",
    "    \n",
    "    df[\"monthly_installment\"] = df.apply(lambda x: calculate_monthly_installment(x[\"loan_amount\"], x[\"loan_term\"]), axis=1)\n",
    "    \n",
    "    def calculate_interest_rate(row):\n",
    "        def interest_function(r):\n",
    "            P = row[\"loan_amount\"]\n",
    "            n = row[\"loan_term\"]\n",
    "            EMI = row[\"monthly_installment\"]\n",
    "            return EMI - (P * r * (1 + r)**n) / ((1 + r)**n - 1)\n",
    "        \n",
    "        r_initial_guess = 0.01\n",
    "        monthly_rate = fsolve(interest_function, r_initial_guess)[0]\n",
    "        annual_rate = monthly_rate * 12 * 100\n",
    "        return annual_rate\n",
    "    \n",
    "    df[\"interest_rate\"] = df.apply(calculate_interest_rate, axis=1)\n",
    "\n",
    "    def calculate_repayment_status(row):\n",
    "        if row['income'] < 50000 and row['credit_score'] < 600:\n",
    "            return 0  \n",
    "        \n",
    "        if row['age'] > 55 and row['income'] < 80000:\n",
    "            return 0  \n",
    "        \n",
    "        if row['loan_term'] in [48, 60] or row['interest_rate'] > 12:\n",
    "            return 0 \n",
    "        \n",
    "        debt_to_income_ratio = row['loan_amount'] / row['income'] * 100\n",
    "        if debt_to_income_ratio > 30: \n",
    "            return 0\n",
    "        \n",
    "        return 1\n",
    "\n",
    "    df[\"repayment_status\"] = df.apply(calculate_repayment_status, axis=1)\n",
    "\n",
    "    \n",
    "    return df\n",
    "\n",
    "loan_data = generate_fake_loan_data(num_records=20000)"
   ]
  },
  {
   "cell_type": "code",
   "execution_count": 5,
   "metadata": {},
   "outputs": [],
   "source": [
    "#SAVE THE GENERATED FAKE DATA\n",
    "loan_data.to_csv(\"Loan dataset.csv\",index = False)"
   ]
  },
  {
   "cell_type": "code",
   "execution_count": 4,
   "metadata": {},
   "outputs": [],
   "source": [
    "#LOAD THE CSV FILE\n",
    "loan_data = pd.read_csv(\"d:/BANK PROJECT/Loan dataset.csv\")"
   ]
  },
  {
   "cell_type": "code",
   "execution_count": null,
   "metadata": {},
   "outputs": [],
   "source": [
    "# DISPLAY THE DATAFRAME\n",
    "loan_data.head()"
   ]
  },
  {
   "cell_type": "markdown",
   "metadata": {},
   "source": [
    "                                                DATA CLEANING"
   ]
  },
  {
   "cell_type": "code",
   "execution_count": null,
   "metadata": {},
   "outputs": [],
   "source": [
    "#CHECKING NULL VALUES\n",
    "loan_data.isna().sum()"
   ]
  },
  {
   "cell_type": "code",
   "execution_count": 7,
   "metadata": {},
   "outputs": [
    {
     "data": {
      "text/plain": [
       "0"
      ]
     },
     "execution_count": 7,
     "metadata": {},
     "output_type": "execute_result"
    }
   ],
   "source": [
    "#CHECKING DUPLICATE DATA\n",
    "loan_data.duplicated().sum()"
   ]
  },
  {
   "cell_type": "code",
   "execution_count": null,
   "metadata": {},
   "outputs": [],
   "source": [
    "#CHECKING THE INFO OF THE DATAFRAME\n",
    "loan_data.info()"
   ]
  },
  {
   "cell_type": "code",
   "execution_count": null,
   "metadata": {},
   "outputs": [],
   "source": [
    "#DESCRIBE THE DATAFRAME\n",
    "loan_data.describe()"
   ]
  },
  {
   "cell_type": "code",
   "execution_count": null,
   "metadata": {},
   "outputs": [],
   "source": [
    "#COUNTING THE COLUMNS VALUES\n",
    "loan_data.count()"
   ]
  },
  {
   "cell_type": "code",
   "execution_count": null,
   "metadata": {},
   "outputs": [],
   "source": [
    "#CHECKING THE DATATYPES ARE CORRECT\n",
    "loan_data.dtypes"
   ]
  },
  {
   "cell_type": "code",
   "execution_count": 12,
   "metadata": {},
   "outputs": [],
   "source": [
    "#ROUNDING THE MONTHLY INSTALLMENT \n",
    "loan_data['monthly_installment'] = loan_data['monthly_installment'].round(1).astype(float)\n"
   ]
  },
  {
   "cell_type": "code",
   "execution_count": 13,
   "metadata": {},
   "outputs": [],
   "source": [
    "#ROUNDING THE INTEREST RATE\n",
    "loan_data['interest_rate'] = loan_data['interest_rate'].round(2).astype(float)"
   ]
  },
  {
   "cell_type": "code",
   "execution_count": 14,
   "metadata": {},
   "outputs": [],
   "source": [
    "#CONVERTING LOAN AMOUNT TO INTEGER\n",
    "loan_data['loan_amount'] = loan_data['loan_amount'].astype(int)"
   ]
  },
  {
   "cell_type": "code",
   "execution_count": null,
   "metadata": {},
   "outputs": [],
   "source": [
    "#DISPLAY THE DATAFRAME AFTER ROUNDING THE DATA COLUMNS\n",
    "loan_data.head()"
   ]
  },
  {
   "cell_type": "code",
   "execution_count": null,
   "metadata": {},
   "outputs": [],
   "source": [
    "                                               EXPLORATORY DATA ANALYSIS"
   ]
  },
  {
   "cell_type": "code",
   "execution_count": 16,
   "metadata": {},
   "outputs": [],
   "source": [
    "#IMPORTING DATA VISULIATION LIBRARIES FOR EDA AND CHECK OUTLIER\n",
    "import seaborn as sns\n",
    "import matplotlib.pyplot as plt"
   ]
  },
  {
   "cell_type": "code",
   "execution_count": null,
   "metadata": {},
   "outputs": [],
   "source": [
    "#CHECKING OUTLIER USING BOXPLOT\n",
    "plt.figure(figsize=(15, 6))\n",
    "sns.boxplot(data=loan_data)"
   ]
  },
  {
   "cell_type": "code",
   "execution_count": null,
   "metadata": {},
   "outputs": [],
   "source": [
    "#BY AGE CHECKING THE REPAYMENT AVERAGE \n",
    "plt.figure(figsize=(15,6))\n",
    "sns.barplot(x='age', y='repayment_status', data=loan_data, color='skyblue')\n",
    "plt.title('Average Repayment Status by Age', fontsize=16)\n",
    "plt.xlabel('Age', fontsize=14)\n",
    "plt.ylabel('Average Repayment Status', fontsize=14)\n",
    "plt.show()\n"
   ]
  },
  {
   "cell_type": "code",
   "execution_count": null,
   "metadata": {},
   "outputs": [],
   "source": [
    "#DISPLAY THE TOP 10 HIGH LOAN CUSTOMER\n",
    "top_10_loan_data = loan_data[['name', 'loan_amount', 'repayment_status']].sort_values(by='loan_amount', ascending=False).head(10)\n",
    "\n",
    "plt.figure(figsize=(25, 6))\n",
    "sns.barplot(x='name', y='loan_amount', hue='repayment_status', data=top_10_loan_data, palette='viridis')\n",
    "plt.title('Top 10 Customers with the Highest Loan Amounts', fontsize=16)\n",
    "plt.xlabel('Customer Name', fontsize=14)\n",
    "plt.ylabel('Loan Amount', fontsize=14)\n",
    "plt.xticks(rotation=45)\n",
    "plt.show()\n"
   ]
  },
  {
   "cell_type": "code",
   "execution_count": null,
   "metadata": {},
   "outputs": [],
   "source": [
    "#TOP 10 HIGH INCOME CUSTOMERS WITH REPAYMENT STATUS\n",
    "top_10_loan_data = loan_data[['name', 'income', 'repayment_status']].sort_values(by='income', ascending=False).head(10)\n",
    "\n",
    "plt.figure(figsize=(25, 6))\n",
    "sns.barplot(x='name', y='income', hue='repayment_status', data=top_10_loan_data, palette='magma')\n",
    "plt.title('Top 10 High Income Customers with Repayment Status', fontsize=16)\n",
    "plt.xlabel('Customer Name', fontsize=14)\n",
    "plt.ylabel('Income', fontsize=14)\n",
    "plt.xticks(rotation=45)\n",
    "plt.show()\n"
   ]
  },
  {
   "cell_type": "code",
   "execution_count": null,
   "metadata": {},
   "outputs": [],
   "source": [
    "#NO OF CUSTOMER COLLECTED LOAN BY AGE WISE\n",
    "plt.figure(figsize=(13,6))\n",
    "sns.countplot(x=\"age\", data=loan_data, palette='coolwarm')\n",
    "plt.title('Number of Customers for Each Age', fontsize=16)\n",
    "plt.xlabel('Age', fontsize=14)\n",
    "plt.ylabel('Number of Customers', fontsize=14)\n",
    "plt.show()\n"
   ]
  },
  {
   "cell_type": "code",
   "execution_count": 19,
   "metadata": {},
   "outputs": [
    {
     "data": {
      "text/html": [
       "<div>\n",
       "<style scoped>\n",
       "    .dataframe tbody tr th:only-of-type {\n",
       "        vertical-align: middle;\n",
       "    }\n",
       "\n",
       "    .dataframe tbody tr th {\n",
       "        vertical-align: top;\n",
       "    }\n",
       "\n",
       "    .dataframe thead th {\n",
       "        text-align: right;\n",
       "    }\n",
       "</style>\n",
       "<table border=\"1\" class=\"dataframe\">\n",
       "  <thead>\n",
       "    <tr style=\"text-align: right;\">\n",
       "      <th></th>\n",
       "      <th>customer_id</th>\n",
       "      <th>name</th>\n",
       "      <th>age</th>\n",
       "      <th>income</th>\n",
       "      <th>credit_score</th>\n",
       "      <th>loan_term</th>\n",
       "      <th>loan_amount</th>\n",
       "      <th>monthly_installment</th>\n",
       "      <th>interest_rate</th>\n",
       "      <th>repayment_status</th>\n",
       "    </tr>\n",
       "  </thead>\n",
       "  <tbody>\n",
       "    <tr>\n",
       "      <th>0</th>\n",
       "      <td>1</td>\n",
       "      <td>Ashley Boyer</td>\n",
       "      <td>64</td>\n",
       "      <td>112674</td>\n",
       "      <td>515</td>\n",
       "      <td>36</td>\n",
       "      <td>10000</td>\n",
       "      <td>337.9</td>\n",
       "      <td>13.19</td>\n",
       "      <td>0</td>\n",
       "    </tr>\n",
       "    <tr>\n",
       "      <th>1</th>\n",
       "      <td>2</td>\n",
       "      <td>Mrs. Kelly Henry DDS</td>\n",
       "      <td>64</td>\n",
       "      <td>48349</td>\n",
       "      <td>591</td>\n",
       "      <td>24</td>\n",
       "      <td>8000</td>\n",
       "      <td>365.5</td>\n",
       "      <td>9.01</td>\n",
       "      <td>0</td>\n",
       "    </tr>\n",
       "    <tr>\n",
       "      <th>2</th>\n",
       "      <td>3</td>\n",
       "      <td>Kelly Gardner</td>\n",
       "      <td>61</td>\n",
       "      <td>115174</td>\n",
       "      <td>402</td>\n",
       "      <td>36</td>\n",
       "      <td>10000</td>\n",
       "      <td>334.1</td>\n",
       "      <td>12.40</td>\n",
       "      <td>0</td>\n",
       "    </tr>\n",
       "    <tr>\n",
       "      <th>3</th>\n",
       "      <td>4</td>\n",
       "      <td>Ryan Foster</td>\n",
       "      <td>49</td>\n",
       "      <td>99736</td>\n",
       "      <td>595</td>\n",
       "      <td>24</td>\n",
       "      <td>14000</td>\n",
       "      <td>644.5</td>\n",
       "      <td>9.76</td>\n",
       "      <td>1</td>\n",
       "    </tr>\n",
       "    <tr>\n",
       "      <th>4</th>\n",
       "      <td>5</td>\n",
       "      <td>Jeffrey Mckenzie</td>\n",
       "      <td>35</td>\n",
       "      <td>63382</td>\n",
       "      <td>591</td>\n",
       "      <td>60</td>\n",
       "      <td>14000</td>\n",
       "      <td>314.4</td>\n",
       "      <td>12.43</td>\n",
       "      <td>0</td>\n",
       "    </tr>\n",
       "  </tbody>\n",
       "</table>\n",
       "</div>"
      ],
      "text/plain": [
       "   customer_id                  name  age  income  credit_score  loan_term  \\\n",
       "0            1          Ashley Boyer   64  112674           515         36   \n",
       "1            2  Mrs. Kelly Henry DDS   64   48349           591         24   \n",
       "2            3         Kelly Gardner   61  115174           402         36   \n",
       "3            4           Ryan Foster   49   99736           595         24   \n",
       "4            5      Jeffrey Mckenzie   35   63382           591         60   \n",
       "\n",
       "   loan_amount  monthly_installment  interest_rate  repayment_status  \n",
       "0        10000                337.9          13.19                 0  \n",
       "1         8000                365.5           9.01                 0  \n",
       "2        10000                334.1          12.40                 0  \n",
       "3        14000                644.5           9.76                 1  \n",
       "4        14000                314.4          12.43                 0  "
      ]
     },
     "execution_count": 19,
     "metadata": {},
     "output_type": "execute_result"
    }
   ],
   "source": [
    "loan_data.head()"
   ]
  },
  {
   "cell_type": "code",
   "execution_count": null,
   "metadata": {},
   "outputs": [],
   "source": [
    "#CHECK THE CORRELATION FOR NUMERIC COLUMNS\n",
    "correlation_matrix = loan_data[['age', 'income', 'credit_score', 'loan_term', 'loan_amount', 'monthly_installment', 'interest_rate']].corr()\n",
    "\n",
    "plt.figure(figsize=(10, 8))\n",
    "sns.heatmap(correlation_matrix, annot=True, cmap='coolwarm', fmt='.2f')\n",
    "plt.title('Correlation Matrix', fontsize=16)\n",
    "plt.show()\n"
   ]
  },
  {
   "cell_type": "code",
   "execution_count": null,
   "metadata": {},
   "outputs": [],
   "source": [
    "#COUNTING THE ROWS WHICH HAS REPAYMENT STATUS HAS 0 VALUES\n",
    "count_default = loan_data[loan_data['repayment_status'] == 0].shape[0]\n",
    "count_default\n"
   ]
  },
  {
   "cell_type": "code",
   "execution_count": null,
   "metadata": {},
   "outputs": [],
   "source": [
    "#COUNTING THE ROWS WHICH HAS REPAYMENT STATUS HAS 1 VALUES\n",
    "count_default = loan_data[loan_data['repayment_status'] == 1].shape[0]\n",
    "count_default"
   ]
  },
  {
   "cell_type": "markdown",
   "metadata": {},
   "source": [
    "                               DATA PREPROCESSING AND MODEL TRAINING"
   ]
  },
  {
   "cell_type": "code",
   "execution_count": null,
   "metadata": {},
   "outputs": [],
   "source": [
    "#INSTALLING THE IMBALANCES LEARN LIBRARY FOR BALANCES THE DATAFRAME\n",
    "!pip install imbalanced-learn"
   ]
  },
  {
   "cell_type": "code",
   "execution_count": null,
   "metadata": {},
   "outputs": [],
   "source": [
    "#IMPORTING THE SMOTE LIBRARY AND BALANCING THE DATAFRAME USING SMOTE \n",
    "from imblearn.over_sampling import SMOTE\n",
    "\n",
    "X = loan_data.drop(columns=['customer_id', 'name', 'repayment_status']) \n",
    "y = loan_data['repayment_status']  \n",
    "\n",
    "smote = SMOTE(random_state=42)\n",
    "X_smote, y_smote = smote.fit_resample(X, y)\n",
    "\n",
    "balanced_loan_data = pd.concat([X_smote, y_smote], axis=1)\n",
    "\n",
    "print(\"Before SMOTE:\")\n",
    "print(y.value_counts())\n",
    "\n",
    "print(\"\\nAfter SMOTE:\")\n",
    "print(y_smote.value_counts())"
   ]
  },
  {
   "cell_type": "code",
   "execution_count": 23,
   "metadata": {},
   "outputs": [],
   "source": [
    "#IMPORTING LIBRARIES FOR TRAIN AND TEST THE MODELS\n",
    "from sklearn.model_selection import train_test_split\n",
    "from sklearn.linear_model import LogisticRegression\n",
    "from sklearn.ensemble import RandomForestClassifier\n",
    "import xgboost as xgb\n",
    "from sklearn.preprocessing import StandardScaler\n",
    "from sklearn.metrics import precision_score, recall_score, f1_score\n",
    "from sklearn.metrics import roc_auc_score"
   ]
  },
  {
   "cell_type": "code",
   "execution_count": 24,
   "metadata": {},
   "outputs": [],
   "source": [
    "#SETTING FEATURE AND TARGET COLUMN\n",
    "X = balanced_loan_data[['age', 'income', 'credit_score', 'loan_term', 'loan_amount', 'monthly_installment', 'interest_rate']]\n",
    "y = balanced_loan_data['repayment_status']"
   ]
  },
  {
   "cell_type": "code",
   "execution_count": 25,
   "metadata": {},
   "outputs": [],
   "source": [
    "#SPLITING THE DATA FOR TRAINING AND TESTING\n",
    "X_train, X_test, y_train, y_test = train_test_split(X, y, test_size=0.2, random_state=42)"
   ]
  },
  {
   "cell_type": "code",
   "execution_count": 26,
   "metadata": {},
   "outputs": [],
   "source": [
    "#DOING THE FEATURE SCALING USING THE STANDARD SCALER\n",
    "scaler = StandardScaler()\n",
    "X_train_scaled = scaler.fit_transform(X_train) \n",
    "X_test_scaled = scaler.transform(X_test)       "
   ]
  },
  {
   "cell_type": "code",
   "execution_count": null,
   "metadata": {},
   "outputs": [],
   "source": [
    "#TRAINING THE LOGISTIC REG MODEL\n",
    "logistic_model = LogisticRegression()\n",
    "logistic_model.fit(X_train_scaled, y_train)"
   ]
  },
  {
   "cell_type": "code",
   "execution_count": null,
   "metadata": {},
   "outputs": [],
   "source": [
    "#CHECKING THE ACCURACY FOR TRAINED AND TEST DATA for logistic model\n",
    "print(\"Training Accuracy:\", logistic_model.score(X_train_scaled, y_train))\n",
    "print(\"Test Accuracy:\", logistic_model.score(X_test_scaled, y_test))"
   ]
  },
  {
   "cell_type": "code",
   "execution_count": null,
   "metadata": {},
   "outputs": [],
   "source": [
    "#CHECKING THE PRECISION,RECALL AND F1 SCORE FOR LOGISTIC CLASSIFIER MODEL\n",
    "y_pred = logistic_model.predict(X_test_scaled)\n",
    "print(\"Precision:\", precision_score(y_test, y_pred))\n",
    "print(\"Recall:\", recall_score(y_test, y_pred))\n",
    "print(\"F1-Score:\", f1_score(y_test, y_pred))"
   ]
  },
  {
   "cell_type": "code",
   "execution_count": null,
   "metadata": {},
   "outputs": [],
   "source": [
    "#CHECKING THE ROC AUC SCORE FOR LOGISTIC MODEL\n",
    "y_prob = logistic_model.predict_proba(X_test_scaled)[:, 1]\n",
    "print(\"ROC-AUC Score:\", roc_auc_score(y_test, y_prob))"
   ]
  },
  {
   "cell_type": "code",
   "execution_count": null,
   "metadata": {},
   "outputs": [],
   "source": [
    "#TRAINING THE RANDOM FOREST MODEL\n",
    "random_forest = RandomForestClassifier(max_depth=3, random_state=42)\n",
    "random_forest.fit(X_train_scaled, y_train)"
   ]
  },
  {
   "cell_type": "code",
   "execution_count": null,
   "metadata": {},
   "outputs": [],
   "source": [
    "#CHECKING THE ACCURACY FOR TRAINED AND TEST DATA FOR RANDOM FOREST MODEL\n",
    "print(\"Training Accuracy:\", random_forest.score(X_train_scaled, y_train))\n",
    "print(\"Test Accuracy:\", random_forest.score(X_test_scaled, y_test))"
   ]
  },
  {
   "cell_type": "code",
   "execution_count": null,
   "metadata": {},
   "outputs": [],
   "source": [
    "#CHECKING THE PRECISION,RECALL AND F1 SCORE FOR RANDOM FOREST MODEL\n",
    "model1_y_pred = random_forest.predict(X_test_scaled)\n",
    "print(\"Precision:\", precision_score(y_test, model1_y_pred))\n",
    "print(\"Recall:\", recall_score(y_test, model1_y_pred))\n",
    "print(\"F1-Score:\", f1_score(y_test, model1_y_pred))"
   ]
  },
  {
   "cell_type": "code",
   "execution_count": null,
   "metadata": {},
   "outputs": [],
   "source": [
    "#CHECKING THE ROC AUC SCORE FOR RANDOM FOREST MODEL\n",
    "y1_prob = random_forest.predict_proba(X_test_scaled)[:, 1]\n",
    "print(\"ROC-AUC Score:\", roc_auc_score(y_test, y1_prob))"
   ]
  },
  {
   "cell_type": "code",
   "execution_count": null,
   "metadata": {},
   "outputs": [],
   "source": [
    "# ##TRAINING THE XGBOOST MODEL\n",
    "xgboost_model= xgb.XGBClassifier(\n",
    "    objective=\"binary:logistic\",  \n",
    "    colsample_bytree=0.3,        \n",
    "    learning_rate=0.1,          \n",
    "    max_depth=5,            \n",
    "    alpha=10,                    \n",
    "    n_estimators=100,            \n",
    "    random_state=42             \n",
    ")\n",
    "xgboost_model.fit(X_train_scaled, y_train)"
   ]
  },
  {
   "cell_type": "code",
   "execution_count": null,
   "metadata": {},
   "outputs": [],
   "source": [
    "# #CHECKING THE ACCURACY FOR TRAINED AND TEST DATA XGBOOST MODEL\n",
    "print(\"Training Accuracy:\", xgboost_model.score(X_train_scaled, y_train))\n",
    "print(\"Test Accuracy:\", xgboost_model.score(X_test_scaled, y_test))"
   ]
  },
  {
   "cell_type": "code",
   "execution_count": null,
   "metadata": {},
   "outputs": [],
   "source": [
    "#CHECKING THE PRECISION,RECALL AND F1 SCORE FOR XGBOOST MODEL\n",
    "xgboost_model_y_pred = xgboost_model.predict(X_test_scaled)\n",
    "\n",
    "print(\"Precision:\", precision_score(y_test, xgboost_model_y_pred))\n",
    "print(\"Recall:\", recall_score(y_test, xgboost_model_y_pred))\n",
    "print(\"F1-Score:\", f1_score(y_test, xgboost_model_y_pred))"
   ]
  },
  {
   "cell_type": "code",
   "execution_count": null,
   "metadata": {},
   "outputs": [],
   "source": [
    "#CHECKING THE ROC AUC SCORE FOR XGBOOST MODEL\n",
    "xgboost_model_y_prob = xgboost_model.predict_proba(X_test_scaled)[:, 1]\n",
    "print(\"ROC-AUC Score:\", roc_auc_score(y_test, xgboost_model_y_prob))"
   ]
  },
  {
   "cell_type": "code",
   "execution_count": 39,
   "metadata": {},
   "outputs": [],
   "source": [
    "#IMPORT JOBLIB TO SAVE THE MODEL\n",
    "import joblib"
   ]
  },
  {
   "cell_type": "code",
   "execution_count": null,
   "metadata": {},
   "outputs": [],
   "source": [
    "#SAVED THE HIGH SCORE XGBOOST MODEL IN SPECIFIC LOCATION\n",
    "joblib.dump(xgboost_model,r\"C:\\Users\\arune\\OneDrive\\Desktop\\TENNIS PYTHON PROJECT.pkl\")"
   ]
  }
 ],
 "metadata": {
  "language_info": {
   "name": "python"
  }
 },
 "nbformat": 4,
 "nbformat_minor": 2
}
